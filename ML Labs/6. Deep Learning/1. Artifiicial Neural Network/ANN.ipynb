{
  "nbformat": 4,
  "nbformat_minor": 0,
  "metadata": {
    "colab": {
      "name": "Untitled1.ipynb",
      "version": "0.3.2",
      "provenance": [],
      "include_colab_link": true
    },
    "kernelspec": {
      "name": "python3",
      "display_name": "Python 3"
    }
  },
  "cells": [
    {
      "cell_type": "markdown",
      "metadata": {
        "id": "view-in-github",
        "colab_type": "text"
      },
      "source": [
        "<a href=\"https://colab.research.google.com/github/sensoumya/myProjects/blob/master/ANN.ipynb\" target=\"_parent\"><img src=\"https://colab.research.google.com/assets/colab-badge.svg\" alt=\"Open In Colab\"/></a>"
      ]
    },
    {
      "metadata": {
        "id": "Lmzm1sdXfCCL",
        "colab_type": "code",
        "colab": {}
      },
      "cell_type": "code",
      "source": [
        "import pandas as pd\n",
        "import numpy as np\n",
        "import matplotlib.pyplot as plt"
      ],
      "execution_count": 0,
      "outputs": []
    },
    {
      "metadata": {
        "id": "9rGxrfVhjzeg",
        "colab_type": "code",
        "colab": {
          "resources": {
            "http://localhost:8080/nbextensions/google.colab/files.js": {
              "data": "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",
              "ok": true,
              "headers": [
                [
                  "content-type",
                  "application/javascript"
                ]
              ],
              "status": 200,
              "status_text": ""
            }
          },
          "base_uri": "https://localhost:8080/",
          "height": 74
        },
        "outputId": "0edd368d-6099-4216-df8b-fc3b83c78d64"
      },
      "cell_type": "code",
      "source": [
        "from google.colab import files\n",
        "uploaded = files.upload()"
      ],
      "execution_count": 2,
      "outputs": [
        {
          "output_type": "display_data",
          "data": {
            "text/html": [
              "\n",
              "     <input type=\"file\" id=\"files-0d306984-c86f-44eb-b006-bcce7e4968d2\" name=\"files[]\" multiple disabled />\n",
              "     <output id=\"result-0d306984-c86f-44eb-b006-bcce7e4968d2\">\n",
              "      Upload widget is only available when the cell has been executed in the\n",
              "      current browser session. Please rerun this cell to enable.\n",
              "      </output>\n",
              "      <script src=\"/nbextensions/google.colab/files.js\"></script> "
            ],
            "text/plain": [
              "<IPython.core.display.HTML object>"
            ]
          },
          "metadata": {
            "tags": []
          }
        },
        {
          "output_type": "stream",
          "text": [
            "Saving Churn_Modelling.csv to Churn_Modelling (3).csv\n"
          ],
          "name": "stdout"
        }
      ]
    },
    {
      "metadata": {
        "id": "OBlv50rQj_9J",
        "colab_type": "code",
        "colab": {}
      },
      "cell_type": "code",
      "source": [
        "import io\n",
        "df = pd.read_csv(io.BytesIO(uploaded['Churn_Modelling.csv']))"
      ],
      "execution_count": 0,
      "outputs": []
    },
    {
      "metadata": {
        "id": "xRzSu0p2kP13",
        "colab_type": "code",
        "colab": {
          "base_uri": "https://localhost:8080/",
          "height": 204
        },
        "outputId": "4c9858d4-5a21-445f-a386-08c14558ac6b"
      },
      "cell_type": "code",
      "source": [
        "df.head()"
      ],
      "execution_count": 5,
      "outputs": [
        {
          "output_type": "execute_result",
          "data": {
            "text/html": [
              "<div>\n",
              "<style scoped>\n",
              "    .dataframe tbody tr th:only-of-type {\n",
              "        vertical-align: middle;\n",
              "    }\n",
              "\n",
              "    .dataframe tbody tr th {\n",
              "        vertical-align: top;\n",
              "    }\n",
              "\n",
              "    .dataframe thead th {\n",
              "        text-align: right;\n",
              "    }\n",
              "</style>\n",
              "<table border=\"1\" class=\"dataframe\">\n",
              "  <thead>\n",
              "    <tr style=\"text-align: right;\">\n",
              "      <th></th>\n",
              "      <th>RowNumber</th>\n",
              "      <th>CustomerId</th>\n",
              "      <th>Surname</th>\n",
              "      <th>CreditScore</th>\n",
              "      <th>Geography</th>\n",
              "      <th>Gender</th>\n",
              "      <th>Age</th>\n",
              "      <th>Tenure</th>\n",
              "      <th>Balance</th>\n",
              "      <th>NumOfProducts</th>\n",
              "      <th>HasCrCard</th>\n",
              "      <th>IsActiveMember</th>\n",
              "      <th>EstimatedSalary</th>\n",
              "      <th>Exited</th>\n",
              "    </tr>\n",
              "  </thead>\n",
              "  <tbody>\n",
              "    <tr>\n",
              "      <th>0</th>\n",
              "      <td>1</td>\n",
              "      <td>15634602</td>\n",
              "      <td>Hargrave</td>\n",
              "      <td>619</td>\n",
              "      <td>France</td>\n",
              "      <td>Female</td>\n",
              "      <td>42</td>\n",
              "      <td>2</td>\n",
              "      <td>0.00</td>\n",
              "      <td>1</td>\n",
              "      <td>1</td>\n",
              "      <td>1</td>\n",
              "      <td>101348.88</td>\n",
              "      <td>1</td>\n",
              "    </tr>\n",
              "    <tr>\n",
              "      <th>1</th>\n",
              "      <td>2</td>\n",
              "      <td>15647311</td>\n",
              "      <td>Hill</td>\n",
              "      <td>608</td>\n",
              "      <td>Spain</td>\n",
              "      <td>Female</td>\n",
              "      <td>41</td>\n",
              "      <td>1</td>\n",
              "      <td>83807.86</td>\n",
              "      <td>1</td>\n",
              "      <td>0</td>\n",
              "      <td>1</td>\n",
              "      <td>112542.58</td>\n",
              "      <td>0</td>\n",
              "    </tr>\n",
              "    <tr>\n",
              "      <th>2</th>\n",
              "      <td>3</td>\n",
              "      <td>15619304</td>\n",
              "      <td>Onio</td>\n",
              "      <td>502</td>\n",
              "      <td>France</td>\n",
              "      <td>Female</td>\n",
              "      <td>42</td>\n",
              "      <td>8</td>\n",
              "      <td>159660.80</td>\n",
              "      <td>3</td>\n",
              "      <td>1</td>\n",
              "      <td>0</td>\n",
              "      <td>113931.57</td>\n",
              "      <td>1</td>\n",
              "    </tr>\n",
              "    <tr>\n",
              "      <th>3</th>\n",
              "      <td>4</td>\n",
              "      <td>15701354</td>\n",
              "      <td>Boni</td>\n",
              "      <td>699</td>\n",
              "      <td>France</td>\n",
              "      <td>Female</td>\n",
              "      <td>39</td>\n",
              "      <td>1</td>\n",
              "      <td>0.00</td>\n",
              "      <td>2</td>\n",
              "      <td>0</td>\n",
              "      <td>0</td>\n",
              "      <td>93826.63</td>\n",
              "      <td>0</td>\n",
              "    </tr>\n",
              "    <tr>\n",
              "      <th>4</th>\n",
              "      <td>5</td>\n",
              "      <td>15737888</td>\n",
              "      <td>Mitchell</td>\n",
              "      <td>850</td>\n",
              "      <td>Spain</td>\n",
              "      <td>Female</td>\n",
              "      <td>43</td>\n",
              "      <td>2</td>\n",
              "      <td>125510.82</td>\n",
              "      <td>1</td>\n",
              "      <td>1</td>\n",
              "      <td>1</td>\n",
              "      <td>79084.10</td>\n",
              "      <td>0</td>\n",
              "    </tr>\n",
              "  </tbody>\n",
              "</table>\n",
              "</div>"
            ],
            "text/plain": [
              "   RowNumber  CustomerId   Surname  CreditScore Geography  Gender  Age  \\\n",
              "0          1    15634602  Hargrave          619    France  Female   42   \n",
              "1          2    15647311      Hill          608     Spain  Female   41   \n",
              "2          3    15619304      Onio          502    France  Female   42   \n",
              "3          4    15701354      Boni          699    France  Female   39   \n",
              "4          5    15737888  Mitchell          850     Spain  Female   43   \n",
              "\n",
              "   Tenure    Balance  NumOfProducts  HasCrCard  IsActiveMember  \\\n",
              "0       2       0.00              1          1               1   \n",
              "1       1   83807.86              1          0               1   \n",
              "2       8  159660.80              3          1               0   \n",
              "3       1       0.00              2          0               0   \n",
              "4       2  125510.82              1          1               1   \n",
              "\n",
              "   EstimatedSalary  Exited  \n",
              "0        101348.88       1  \n",
              "1        112542.58       0  \n",
              "2        113931.57       1  \n",
              "3         93826.63       0  \n",
              "4         79084.10       0  "
            ]
          },
          "metadata": {
            "tags": []
          },
          "execution_count": 5
        }
      ]
    },
    {
      "metadata": {
        "id": "waO3weMNkhsV",
        "colab_type": "code",
        "colab": {
          "base_uri": "https://localhost:8080/",
          "height": 136
        },
        "outputId": "552d073a-5f70-4b91-e1e0-fd5e48f7ba55"
      },
      "cell_type": "code",
      "source": [
        "X = df.iloc[:,3:-1].values\n",
        "y = df.iloc[:,-1].values\n",
        "X"
      ],
      "execution_count": 6,
      "outputs": [
        {
          "output_type": "execute_result",
          "data": {
            "text/plain": [
              "array([[619, 'France', 'Female', ..., 1, 1, 101348.88],\n",
              "       [608, 'Spain', 'Female', ..., 0, 1, 112542.58],\n",
              "       [502, 'France', 'Female', ..., 1, 0, 113931.57],\n",
              "       ...,\n",
              "       [709, 'France', 'Female', ..., 0, 1, 42085.58],\n",
              "       [772, 'Germany', 'Male', ..., 1, 0, 92888.52],\n",
              "       [792, 'France', 'Female', ..., 1, 0, 38190.78]], dtype=object)"
            ]
          },
          "metadata": {
            "tags": []
          },
          "execution_count": 6
        }
      ]
    },
    {
      "metadata": {
        "id": "wm_Bg9NblpMl",
        "colab_type": "code",
        "colab": {}
      },
      "cell_type": "code",
      "source": [
        "from sklearn.preprocessing import LabelEncoder, OneHotEncoder\n",
        "le_x1 = LabelEncoder()\n",
        "X[:,1] = le_x1.fit_transform(X[:,1])"
      ],
      "execution_count": 0,
      "outputs": []
    },
    {
      "metadata": {
        "id": "g-JC0potmpzf",
        "colab_type": "code",
        "colab": {
          "base_uri": "https://localhost:8080/",
          "height": 136
        },
        "outputId": "dc74dea0-2cb2-4c5c-8ab8-1dcc5d852f09"
      },
      "cell_type": "code",
      "source": [
        "le_x2 = LabelEncoder()\n",
        "X[:,2] = le_x2.fit_transform(X[:,2])\n",
        "X"
      ],
      "execution_count": 8,
      "outputs": [
        {
          "output_type": "execute_result",
          "data": {
            "text/plain": [
              "array([[619, 0, 0, ..., 1, 1, 101348.88],\n",
              "       [608, 2, 0, ..., 0, 1, 112542.58],\n",
              "       [502, 0, 0, ..., 1, 0, 113931.57],\n",
              "       ...,\n",
              "       [709, 0, 0, ..., 0, 1, 42085.58],\n",
              "       [772, 1, 1, ..., 1, 0, 92888.52],\n",
              "       [792, 0, 0, ..., 1, 0, 38190.78]], dtype=object)"
            ]
          },
          "metadata": {
            "tags": []
          },
          "execution_count": 8
        }
      ]
    },
    {
      "metadata": {
        "id": "KDZDcY0DnF_Z",
        "colab_type": "code",
        "colab": {
          "base_uri": "https://localhost:8080/",
          "height": 139
        },
        "outputId": "f4d8bc02-d996-427f-a829-35fb44916428"
      },
      "cell_type": "code",
      "source": [
        "ohe = OneHotEncoder(categorical_features=[1])\n",
        "X = ohe.fit_transform(X).toarray()"
      ],
      "execution_count": 9,
      "outputs": [
        {
          "output_type": "stream",
          "text": [
            "/usr/local/lib/python3.6/dist-packages/sklearn/preprocessing/_encoders.py:371: FutureWarning: The handling of integer data will change in version 0.22. Currently, the categories are determined based on the range [0, max(values)], while in the future they will be determined based on the unique values.\n",
            "If you want the future behaviour and silence this warning, you can specify \"categories='auto'\".\n",
            "In case you used a LabelEncoder before this OneHotEncoder to convert the categories to integers, then you can now use the OneHotEncoder directly.\n",
            "  warnings.warn(msg, FutureWarning)\n",
            "/usr/local/lib/python3.6/dist-packages/sklearn/preprocessing/_encoders.py:392: DeprecationWarning: The 'categorical_features' keyword is deprecated in version 0.20 and will be removed in 0.22. You can use the ColumnTransformer instead.\n",
            "  \"use the ColumnTransformer instead.\", DeprecationWarning)\n"
          ],
          "name": "stderr"
        }
      ]
    },
    {
      "metadata": {
        "id": "JGSRKHIlnWJD",
        "colab_type": "code",
        "colab": {
          "base_uri": "https://localhost:8080/",
          "height": 238
        },
        "outputId": "5162cf26-d4bf-4d79-e07d-1e0ae20b657e"
      },
      "cell_type": "code",
      "source": [
        "X = X[:,1:]\n",
        "X"
      ],
      "execution_count": 10,
      "outputs": [
        {
          "output_type": "execute_result",
          "data": {
            "text/plain": [
              "array([[0.0000000e+00, 0.0000000e+00, 6.1900000e+02, ..., 1.0000000e+00,\n",
              "        1.0000000e+00, 1.0134888e+05],\n",
              "       [0.0000000e+00, 1.0000000e+00, 6.0800000e+02, ..., 0.0000000e+00,\n",
              "        1.0000000e+00, 1.1254258e+05],\n",
              "       [0.0000000e+00, 0.0000000e+00, 5.0200000e+02, ..., 1.0000000e+00,\n",
              "        0.0000000e+00, 1.1393157e+05],\n",
              "       ...,\n",
              "       [0.0000000e+00, 0.0000000e+00, 7.0900000e+02, ..., 0.0000000e+00,\n",
              "        1.0000000e+00, 4.2085580e+04],\n",
              "       [1.0000000e+00, 0.0000000e+00, 7.7200000e+02, ..., 1.0000000e+00,\n",
              "        0.0000000e+00, 9.2888520e+04],\n",
              "       [0.0000000e+00, 0.0000000e+00, 7.9200000e+02, ..., 1.0000000e+00,\n",
              "        0.0000000e+00, 3.8190780e+04]])"
            ]
          },
          "metadata": {
            "tags": []
          },
          "execution_count": 10
        }
      ]
    },
    {
      "metadata": {
        "id": "pdlTMX-zoWgQ",
        "colab_type": "code",
        "colab": {}
      },
      "cell_type": "code",
      "source": [
        "from sklearn.model_selection import train_test_split\n",
        "X_train, X_test, y_train, y_test = train_test_split(X,y, test_size = 0.2, random_state=0)"
      ],
      "execution_count": 0,
      "outputs": []
    },
    {
      "metadata": {
        "id": "e0dbmakRx2DG",
        "colab_type": "code",
        "colab": {}
      },
      "cell_type": "code",
      "source": [
        "from sklearn.preprocessing import StandardScaler\n",
        "sc = StandardScaler()\n",
        "X_train = sc.fit_transform(X_train)\n",
        "X_test = sc.fit_transform(X_test)"
      ],
      "execution_count": 0,
      "outputs": []
    },
    {
      "metadata": {
        "id": "V0qcRujoyPK5",
        "colab_type": "code",
        "colab": {}
      },
      "cell_type": "code",
      "source": [
        "import keras\n",
        "from keras.models import Sequential\n",
        "from keras.layers import Dense"
      ],
      "execution_count": 0,
      "outputs": []
    },
    {
      "metadata": {
        "id": "WKgOPtXmzYNr",
        "colab_type": "code",
        "colab": {}
      },
      "cell_type": "code",
      "source": [
        "classifier = Sequential()"
      ],
      "execution_count": 0,
      "outputs": []
    },
    {
      "metadata": {
        "id": "KrLdCRpez3XR",
        "colab_type": "code",
        "colab": {}
      },
      "cell_type": "code",
      "source": [
        "classifier.add(Dense(units=6,kernel_initializer='uniform',activation='relu',input_dim=11))"
      ],
      "execution_count": 0,
      "outputs": []
    },
    {
      "metadata": {
        "id": "4eYJ6rRam7C9",
        "colab_type": "code",
        "colab": {}
      },
      "cell_type": "code",
      "source": [
        "classifier.add(Dense(units=6,kernel_initializer='uniform',activation='relu'))"
      ],
      "execution_count": 0,
      "outputs": []
    },
    {
      "metadata": {
        "id": "kjuPHwWyqkH6",
        "colab_type": "code",
        "colab": {}
      },
      "cell_type": "code",
      "source": [
        "classifier.add(Dense(units=1,kernel_initializer='uniform',activation='sigmoid'))"
      ],
      "execution_count": 0,
      "outputs": []
    },
    {
      "metadata": {
        "id": "EBPe2bG_riOW",
        "colab_type": "code",
        "colab": {}
      },
      "cell_type": "code",
      "source": [
        "classifier.compile(optimizer='adam', loss='binary_crossentropy', metrics=['accuracy'])"
      ],
      "execution_count": 0,
      "outputs": []
    },
    {
      "metadata": {
        "id": "sIMYo5lmsRCj",
        "colab_type": "code",
        "colab": {
          "base_uri": "https://localhost:8080/",
          "height": 3505
        },
        "outputId": "65055bd3-3ad1-48ff-e235-830928c691a9"
      },
      "cell_type": "code",
      "source": [
        "classifier.fit(X_train,y_train, batch_size=10, epochs=100)"
      ],
      "execution_count": 27,
      "outputs": [
        {
          "output_type": "stream",
          "text": [
            "WARNING:tensorflow:From /usr/local/lib/python3.6/dist-packages/tensorflow/python/ops/math_ops.py:3066: to_int32 (from tensorflow.python.ops.math_ops) is deprecated and will be removed in a future version.\n",
            "Instructions for updating:\n",
            "Use tf.cast instead.\n",
            "Epoch 1/100\n",
            "8000/8000 [==============================] - 1s 177us/step - loss: 0.4845 - acc: 0.8004\n",
            "Epoch 2/100\n",
            "8000/8000 [==============================] - 1s 107us/step - loss: 0.4080 - acc: 0.8242\n",
            "Epoch 3/100\n",
            "8000/8000 [==============================] - 1s 95us/step - loss: 0.3935 - acc: 0.8264\n",
            "Epoch 4/100\n",
            "8000/8000 [==============================] - 1s 93us/step - loss: 0.3836 - acc: 0.8287\n",
            "Epoch 5/100\n",
            "8000/8000 [==============================] - 1s 92us/step - loss: 0.3770 - acc: 0.8374\n",
            "Epoch 6/100\n",
            "8000/8000 [==============================] - 1s 92us/step - loss: 0.3718 - acc: 0.8454\n",
            "Epoch 7/100\n",
            "8000/8000 [==============================] - 1s 94us/step - loss: 0.3679 - acc: 0.8509\n",
            "Epoch 8/100\n",
            "8000/8000 [==============================] - 1s 92us/step - loss: 0.3648 - acc: 0.8497\n",
            "Epoch 9/100\n",
            "8000/8000 [==============================] - 1s 93us/step - loss: 0.3626 - acc: 0.8501\n",
            "Epoch 10/100\n",
            "8000/8000 [==============================] - 1s 93us/step - loss: 0.3609 - acc: 0.8501\n",
            "Epoch 11/100\n",
            "8000/8000 [==============================] - 1s 94us/step - loss: 0.3592 - acc: 0.8509\n",
            "Epoch 12/100\n",
            "8000/8000 [==============================] - 1s 95us/step - loss: 0.3574 - acc: 0.8536\n",
            "Epoch 13/100\n",
            "8000/8000 [==============================] - 1s 96us/step - loss: 0.3563 - acc: 0.8546\n",
            "Epoch 14/100\n",
            "8000/8000 [==============================] - 1s 92us/step - loss: 0.3557 - acc: 0.8537\n",
            "Epoch 15/100\n",
            "8000/8000 [==============================] - 1s 94us/step - loss: 0.3542 - acc: 0.8534\n",
            "Epoch 16/100\n",
            "8000/8000 [==============================] - 1s 93us/step - loss: 0.3540 - acc: 0.8545\n",
            "Epoch 17/100\n",
            "8000/8000 [==============================] - 1s 94us/step - loss: 0.3513 - acc: 0.8561\n",
            "Epoch 18/100\n",
            "8000/8000 [==============================] - 1s 93us/step - loss: 0.3523 - acc: 0.8556\n",
            "Epoch 19/100\n",
            "8000/8000 [==============================] - 1s 94us/step - loss: 0.3515 - acc: 0.8584\n",
            "Epoch 20/100\n",
            "8000/8000 [==============================] - 1s 93us/step - loss: 0.3500 - acc: 0.8577\n",
            "Epoch 21/100\n",
            "8000/8000 [==============================] - 1s 94us/step - loss: 0.3498 - acc: 0.8557\n",
            "Epoch 22/100\n",
            "8000/8000 [==============================] - 1s 93us/step - loss: 0.3485 - acc: 0.8552\n",
            "Epoch 23/100\n",
            "8000/8000 [==============================] - 1s 94us/step - loss: 0.3485 - acc: 0.8574\n",
            "Epoch 24/100\n",
            "8000/8000 [==============================] - 1s 94us/step - loss: 0.3479 - acc: 0.8574\n",
            "Epoch 25/100\n",
            "8000/8000 [==============================] - 1s 94us/step - loss: 0.3476 - acc: 0.8584\n",
            "Epoch 26/100\n",
            "8000/8000 [==============================] - 1s 94us/step - loss: 0.3470 - acc: 0.8604\n",
            "Epoch 27/100\n",
            "8000/8000 [==============================] - 1s 98us/step - loss: 0.3461 - acc: 0.8559\n",
            "Epoch 28/100\n",
            "8000/8000 [==============================] - 1s 94us/step - loss: 0.3465 - acc: 0.8594\n",
            "Epoch 29/100\n",
            "8000/8000 [==============================] - 1s 93us/step - loss: 0.3443 - acc: 0.8610\n",
            "Epoch 30/100\n",
            "8000/8000 [==============================] - 1s 93us/step - loss: 0.3445 - acc: 0.8572\n",
            "Epoch 31/100\n",
            "8000/8000 [==============================] - 1s 94us/step - loss: 0.3441 - acc: 0.8604\n",
            "Epoch 32/100\n",
            "8000/8000 [==============================] - 1s 94us/step - loss: 0.3442 - acc: 0.8596\n",
            "Epoch 33/100\n",
            "8000/8000 [==============================] - 1s 93us/step - loss: 0.3438 - acc: 0.8572\n",
            "Epoch 34/100\n",
            "8000/8000 [==============================] - 1s 93us/step - loss: 0.3426 - acc: 0.8589\n",
            "Epoch 35/100\n",
            "8000/8000 [==============================] - 1s 96us/step - loss: 0.3430 - acc: 0.8599\n",
            "Epoch 36/100\n",
            "8000/8000 [==============================] - 1s 94us/step - loss: 0.3418 - acc: 0.8605\n",
            "Epoch 37/100\n",
            "8000/8000 [==============================] - 1s 94us/step - loss: 0.3416 - acc: 0.8604\n",
            "Epoch 38/100\n",
            "8000/8000 [==============================] - 1s 93us/step - loss: 0.3418 - acc: 0.8559\n",
            "Epoch 39/100\n",
            "8000/8000 [==============================] - 1s 93us/step - loss: 0.3424 - acc: 0.8601\n",
            "Epoch 40/100\n",
            "8000/8000 [==============================] - 1s 95us/step - loss: 0.3418 - acc: 0.8604\n",
            "Epoch 41/100\n",
            "8000/8000 [==============================] - 1s 96us/step - loss: 0.3416 - acc: 0.8600\n",
            "Epoch 42/100\n",
            "8000/8000 [==============================] - 1s 93us/step - loss: 0.3404 - acc: 0.8601\n",
            "Epoch 43/100\n",
            "8000/8000 [==============================] - 1s 93us/step - loss: 0.3406 - acc: 0.8606\n",
            "Epoch 44/100\n",
            "8000/8000 [==============================] - 1s 93us/step - loss: 0.3410 - acc: 0.8607\n",
            "Epoch 45/100\n",
            "8000/8000 [==============================] - 1s 93us/step - loss: 0.3402 - acc: 0.8617\n",
            "Epoch 46/100\n",
            "8000/8000 [==============================] - 1s 93us/step - loss: 0.3399 - acc: 0.8604\n",
            "Epoch 47/100\n",
            "8000/8000 [==============================] - 1s 93us/step - loss: 0.3397 - acc: 0.8606\n",
            "Epoch 48/100\n",
            "8000/8000 [==============================] - 1s 94us/step - loss: 0.3402 - acc: 0.8589\n",
            "Epoch 49/100\n",
            "8000/8000 [==============================] - 1s 94us/step - loss: 0.3399 - acc: 0.8604\n",
            "Epoch 50/100\n",
            "8000/8000 [==============================] - 1s 96us/step - loss: 0.3397 - acc: 0.8605\n",
            "Epoch 51/100\n",
            "8000/8000 [==============================] - 1s 96us/step - loss: 0.3401 - acc: 0.8602\n",
            "Epoch 52/100\n",
            "8000/8000 [==============================] - 1s 93us/step - loss: 0.3388 - acc: 0.8604\n",
            "Epoch 53/100\n",
            "8000/8000 [==============================] - 1s 93us/step - loss: 0.3402 - acc: 0.8585\n",
            "Epoch 54/100\n",
            "8000/8000 [==============================] - 1s 94us/step - loss: 0.3404 - acc: 0.8585\n",
            "Epoch 55/100\n",
            "8000/8000 [==============================] - 1s 97us/step - loss: 0.3386 - acc: 0.8594\n",
            "Epoch 56/100\n",
            "8000/8000 [==============================] - 1s 94us/step - loss: 0.3385 - acc: 0.8610\n",
            "Epoch 57/100\n",
            "8000/8000 [==============================] - 1s 94us/step - loss: 0.3387 - acc: 0.8592\n",
            "Epoch 58/100\n",
            "8000/8000 [==============================] - 1s 93us/step - loss: 0.3398 - acc: 0.8594\n",
            "Epoch 59/100\n",
            "8000/8000 [==============================] - 1s 95us/step - loss: 0.3393 - acc: 0.8615\n",
            "Epoch 60/100\n",
            "8000/8000 [==============================] - 1s 93us/step - loss: 0.3385 - acc: 0.8609\n",
            "Epoch 61/100\n",
            "8000/8000 [==============================] - 1s 94us/step - loss: 0.3389 - acc: 0.8605\n",
            "Epoch 62/100\n",
            "8000/8000 [==============================] - 1s 93us/step - loss: 0.3389 - acc: 0.8605\n",
            "Epoch 63/100\n",
            "8000/8000 [==============================] - 1s 93us/step - loss: 0.3392 - acc: 0.8601\n",
            "Epoch 64/100\n",
            "8000/8000 [==============================] - 1s 94us/step - loss: 0.3377 - acc: 0.8600\n",
            "Epoch 65/100\n",
            "8000/8000 [==============================] - 1s 94us/step - loss: 0.3386 - acc: 0.8605\n",
            "Epoch 66/100\n",
            "8000/8000 [==============================] - 1s 93us/step - loss: 0.3381 - acc: 0.8625\n",
            "Epoch 67/100\n",
            "8000/8000 [==============================] - 1s 93us/step - loss: 0.3389 - acc: 0.8607\n",
            "Epoch 68/100\n",
            "8000/8000 [==============================] - 1s 94us/step - loss: 0.3391 - acc: 0.8592\n",
            "Epoch 69/100\n",
            "8000/8000 [==============================] - 1s 97us/step - loss: 0.3388 - acc: 0.8620\n",
            "Epoch 70/100\n",
            "8000/8000 [==============================] - 1s 94us/step - loss: 0.3374 - acc: 0.8590\n",
            "Epoch 71/100\n",
            "8000/8000 [==============================] - 1s 95us/step - loss: 0.3380 - acc: 0.8597\n",
            "Epoch 72/100\n",
            "8000/8000 [==============================] - 1s 104us/step - loss: 0.3372 - acc: 0.8611\n",
            "Epoch 73/100\n",
            "8000/8000 [==============================] - 1s 100us/step - loss: 0.3373 - acc: 0.8626\n",
            "Epoch 74/100\n",
            "8000/8000 [==============================] - 1s 101us/step - loss: 0.3362 - acc: 0.8624\n",
            "Epoch 75/100\n",
            "8000/8000 [==============================] - 1s 104us/step - loss: 0.3386 - acc: 0.8605\n",
            "Epoch 76/100\n",
            "8000/8000 [==============================] - 1s 100us/step - loss: 0.3374 - acc: 0.8594\n",
            "Epoch 77/100\n",
            "8000/8000 [==============================] - 1s 100us/step - loss: 0.3371 - acc: 0.8601\n",
            "Epoch 78/100\n",
            "8000/8000 [==============================] - 1s 100us/step - loss: 0.3373 - acc: 0.8607\n",
            "Epoch 79/100\n",
            "8000/8000 [==============================] - 1s 101us/step - loss: 0.3380 - acc: 0.8602\n",
            "Epoch 80/100\n",
            "8000/8000 [==============================] - 1s 100us/step - loss: 0.3373 - acc: 0.8607\n",
            "Epoch 81/100\n",
            "8000/8000 [==============================] - 1s 100us/step - loss: 0.3360 - acc: 0.8625\n",
            "Epoch 82/100\n",
            "8000/8000 [==============================] - 1s 104us/step - loss: 0.3383 - acc: 0.8620\n",
            "Epoch 83/100\n",
            "8000/8000 [==============================] - 1s 102us/step - loss: 0.3371 - acc: 0.8605\n",
            "Epoch 84/100\n",
            "8000/8000 [==============================] - 1s 98us/step - loss: 0.3370 - acc: 0.8626\n",
            "Epoch 85/100\n",
            "8000/8000 [==============================] - 1s 93us/step - loss: 0.3372 - acc: 0.8626\n",
            "Epoch 86/100\n",
            "8000/8000 [==============================] - 1s 93us/step - loss: 0.3356 - acc: 0.8610\n",
            "Epoch 87/100\n",
            "8000/8000 [==============================] - 1s 93us/step - loss: 0.3361 - acc: 0.8624\n",
            "Epoch 88/100\n",
            "8000/8000 [==============================] - 1s 93us/step - loss: 0.3373 - acc: 0.8620\n",
            "Epoch 89/100\n",
            "8000/8000 [==============================] - 1s 94us/step - loss: 0.3368 - acc: 0.8625\n",
            "Epoch 90/100\n",
            "8000/8000 [==============================] - 1s 94us/step - loss: 0.3363 - acc: 0.8630\n",
            "Epoch 91/100\n",
            "8000/8000 [==============================] - 1s 94us/step - loss: 0.3372 - acc: 0.8621\n",
            "Epoch 92/100\n",
            "8000/8000 [==============================] - 1s 96us/step - loss: 0.3374 - acc: 0.8602\n",
            "Epoch 93/100\n",
            "8000/8000 [==============================] - 1s 93us/step - loss: 0.3365 - acc: 0.8631\n",
            "Epoch 94/100\n",
            "8000/8000 [==============================] - 1s 94us/step - loss: 0.3368 - acc: 0.8599\n",
            "Epoch 95/100\n",
            "8000/8000 [==============================] - 1s 94us/step - loss: 0.3357 - acc: 0.8621\n",
            "Epoch 96/100\n",
            "8000/8000 [==============================] - 1s 94us/step - loss: 0.3367 - acc: 0.8610\n",
            "Epoch 97/100\n",
            "8000/8000 [==============================] - 1s 93us/step - loss: 0.3361 - acc: 0.8599\n",
            "Epoch 98/100\n",
            "8000/8000 [==============================] - 1s 93us/step - loss: 0.3356 - acc: 0.8627\n",
            "Epoch 99/100\n",
            "8000/8000 [==============================] - 1s 93us/step - loss: 0.3371 - acc: 0.8612\n",
            "Epoch 100/100\n",
            "8000/8000 [==============================] - 1s 93us/step - loss: 0.3356 - acc: 0.8611\n"
          ],
          "name": "stdout"
        },
        {
          "output_type": "execute_result",
          "data": {
            "text/plain": [
              "<keras.callbacks.History at 0x7f660f484668>"
            ]
          },
          "metadata": {
            "tags": []
          },
          "execution_count": 27
        }
      ]
    },
    {
      "metadata": {
        "id": "Dv17YxDotO7Q",
        "colab_type": "code",
        "colab": {}
      },
      "cell_type": "code",
      "source": [
        "y_pred = classifier.predict(X_test)\n",
        "y_pred = (y_pred > 0.5)"
      ],
      "execution_count": 0,
      "outputs": []
    },
    {
      "metadata": {
        "id": "LC5BeQSYt4Ea",
        "colab_type": "code",
        "colab": {}
      },
      "cell_type": "code",
      "source": [
        "from sklearn.metrics import confusion_matrix"
      ],
      "execution_count": 0,
      "outputs": []
    },
    {
      "metadata": {
        "id": "wmroNjLDt8uV",
        "colab_type": "code",
        "colab": {
          "base_uri": "https://localhost:8080/",
          "height": 51
        },
        "outputId": "fe646e61-b388-411f-cf8a-caebdd6a4fe4"
      },
      "cell_type": "code",
      "source": [
        "cm= confusion_matrix(y_test, y_pred)\n",
        "cm"
      ],
      "execution_count": 44,
      "outputs": [
        {
          "output_type": "execute_result",
          "data": {
            "text/plain": [
              "array([[1512,   83],\n",
              "       [ 193,  212]])"
            ]
          },
          "metadata": {
            "tags": []
          },
          "execution_count": 44
        }
      ]
    }
  ]
}