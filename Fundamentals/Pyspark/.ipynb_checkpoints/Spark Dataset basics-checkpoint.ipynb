{
 "cells": [
  {
   "cell_type": "code",
   "execution_count": 1,
   "metadata": {},
   "outputs": [],
   "source": [
    "from pyspark.sql import *"
   ]
  },
  {
   "cell_type": "code",
   "execution_count": 2,
   "metadata": {},
   "outputs": [],
   "source": [
    "df = spark.read.csv('file:/E:/Project Python/myPython/ML Labs/4. Clustering/1. K-Means Clustering/Mall_Customers.csv', inferSchema=True, header=True)"
   ]
  },
  {
   "cell_type": "code",
   "execution_count": 3,
   "metadata": {},
   "outputs": [
    {
     "name": "stdout",
     "output_type": "stream",
     "text": [
      "+----------+------+---+------------------+----------------------+\n",
      "|CustomerID| Genre|Age|Annual Income (k$)|Spending Score (1-100)|\n",
      "+----------+------+---+------------------+----------------------+\n",
      "|         1|  Male| 19|                15|                    39|\n",
      "|         2|  Male| 21|                15|                    81|\n",
      "|         3|Female| 20|                16|                     6|\n",
      "|         4|Female| 23|                16|                    77|\n",
      "|         5|Female| 31|                17|                    40|\n",
      "|         6|Female| 22|                17|                    76|\n",
      "|         7|Female| 35|                18|                     6|\n",
      "|         8|Female| 23|                18|                    94|\n",
      "|         9|  Male| 64|                19|                     3|\n",
      "|        10|Female| 30|                19|                    72|\n",
      "|        11|  Male| 67|                19|                    14|\n",
      "|        12|Female| 35|                19|                    99|\n",
      "|        13|Female| 58|                20|                    15|\n",
      "|        14|Female| 24|                20|                    77|\n",
      "|        15|  Male| 37|                20|                    13|\n",
      "|        16|  Male| 22|                20|                    79|\n",
      "|        17|Female| 35|                21|                    35|\n",
      "|        18|  Male| 20|                21|                    66|\n",
      "|        19|  Male| 52|                23|                    29|\n",
      "|        20|Female| 35|                23|                    98|\n",
      "+----------+------+---+------------------+----------------------+\n",
      "only showing top 20 rows\n",
      "\n"
     ]
    }
   ],
   "source": [
    "df.show()"
   ]
  },
  {
   "cell_type": "code",
   "execution_count": 4,
   "metadata": {},
   "outputs": [
    {
     "name": "stdout",
     "output_type": "stream",
     "text": [
      "root\n",
      " |-- CustomerID: integer (nullable = true)\n",
      " |-- Genre: string (nullable = true)\n",
      " |-- Age: integer (nullable = true)\n",
      " |-- Annual Income (k$): integer (nullable = true)\n",
      " |-- Spending Score (1-100): integer (nullable = true)\n",
      "\n"
     ]
    }
   ],
   "source": [
    "df.printSchema()"
   ]
  },
  {
   "cell_type": "code",
   "execution_count": 5,
   "metadata": {},
   "outputs": [
    {
     "data": {
      "text/plain": [
       "['CustomerID', 'Genre', 'Age', 'Annual Income (k$)', 'Spending Score (1-100)']"
      ]
     },
     "execution_count": 5,
     "metadata": {},
     "output_type": "execute_result"
    }
   ],
   "source": [
    "df.columns"
   ]
  },
  {
   "cell_type": "code",
   "execution_count": 6,
   "metadata": {},
   "outputs": [
    {
     "data": {
      "text/plain": [
       "200"
      ]
     },
     "execution_count": 6,
     "metadata": {},
     "output_type": "execute_result"
    }
   ],
   "source": [
    "df.count()"
   ]
  },
  {
   "cell_type": "code",
   "execution_count": 7,
   "metadata": {},
   "outputs": [
    {
     "data": {
      "text/plain": [
       "5"
      ]
     },
     "execution_count": 7,
     "metadata": {},
     "output_type": "execute_result"
    }
   ],
   "source": [
    "len(df.columns)"
   ]
  },
  {
   "cell_type": "code",
   "execution_count": 8,
   "metadata": {},
   "outputs": [
    {
     "name": "stdout",
     "output_type": "stream",
     "text": [
      "+-------+-----------------+\n",
      "|summary|              Age|\n",
      "+-------+-----------------+\n",
      "|  count|              200|\n",
      "|   mean|            38.85|\n",
      "| stddev|13.96900733155888|\n",
      "|    min|               18|\n",
      "|    max|               70|\n",
      "+-------+-----------------+\n",
      "\n"
     ]
    }
   ],
   "source": [
    "df.describe('Age').show()"
   ]
  },
  {
   "cell_type": "code",
   "execution_count": 9,
   "metadata": {},
   "outputs": [
    {
     "name": "stdout",
     "output_type": "stream",
     "text": [
      "+---+------------------+\n",
      "|Age|Annual Income (k$)|\n",
      "+---+------------------+\n",
      "| 19|                15|\n",
      "| 21|                15|\n",
      "| 20|                16|\n",
      "| 23|                16|\n",
      "| 31|                17|\n",
      "| 22|                17|\n",
      "| 35|                18|\n",
      "| 23|                18|\n",
      "| 64|                19|\n",
      "| 30|                19|\n",
      "| 67|                19|\n",
      "| 35|                19|\n",
      "| 58|                20|\n",
      "| 24|                20|\n",
      "| 37|                20|\n",
      "| 22|                20|\n",
      "| 35|                21|\n",
      "| 20|                21|\n",
      "| 52|                23|\n",
      "| 35|                23|\n",
      "+---+------------------+\n",
      "only showing top 20 rows\n",
      "\n"
     ]
    }
   ],
   "source": [
    "df.select('Age','Annual Income (k$)').show()"
   ]
  },
  {
   "cell_type": "code",
   "execution_count": 10,
   "metadata": {},
   "outputs": [
    {
     "name": "stdout",
     "output_type": "stream",
     "text": [
      "+----------+-----+---+------------------+----------------------+\n",
      "|CustomerID|Genre|Age|Annual Income (k$)|Spending Score (1-100)|\n",
      "+----------+-----+---+------------------+----------------------+\n",
      "|         1| Male| 19|                15|                    39|\n",
      "|         2| Male| 21|                15|                    81|\n",
      "|         9| Male| 64|                19|                     3|\n",
      "|        11| Male| 67|                19|                    14|\n",
      "|        15| Male| 37|                20|                    13|\n",
      "|        16| Male| 22|                20|                    79|\n",
      "|        18| Male| 20|                21|                    66|\n",
      "|        19| Male| 52|                23|                    29|\n",
      "|        21| Male| 35|                24|                    35|\n",
      "|        22| Male| 25|                24|                    73|\n",
      "|        24| Male| 31|                25|                    73|\n",
      "|        26| Male| 29|                28|                    82|\n",
      "|        28| Male| 35|                28|                    61|\n",
      "|        31| Male| 60|                30|                     4|\n",
      "|        33| Male| 53|                33|                     4|\n",
      "|        34| Male| 18|                33|                    92|\n",
      "|        42| Male| 24|                38|                    92|\n",
      "|        43| Male| 48|                39|                    36|\n",
      "|        52| Male| 33|                42|                    60|\n",
      "|        54| Male| 59|                43|                    60|\n",
      "+----------+-----+---+------------------+----------------------+\n",
      "only showing top 20 rows\n",
      "\n"
     ]
    }
   ],
   "source": [
    "df.filter(df.Genre=='Male').show()"
   ]
  },
  {
   "cell_type": "code",
   "execution_count": 11,
   "metadata": {},
   "outputs": [
    {
     "name": "stdout",
     "output_type": "stream",
     "text": [
      "+---+------------------+\n",
      "|Age|Annual Income (k$)|\n",
      "+---+------------------+\n",
      "| 19|                15|\n",
      "| 21|                15|\n",
      "| 64|                19|\n",
      "| 67|                19|\n",
      "| 37|                20|\n",
      "| 22|                20|\n",
      "| 20|                21|\n",
      "| 52|                23|\n",
      "| 35|                24|\n",
      "| 25|                24|\n",
      "| 31|                25|\n",
      "| 29|                28|\n",
      "| 35|                28|\n",
      "| 60|                30|\n",
      "| 53|                33|\n",
      "| 18|                33|\n",
      "| 24|                38|\n",
      "| 48|                39|\n",
      "| 33|                42|\n",
      "| 59|                43|\n",
      "+---+------------------+\n",
      "only showing top 20 rows\n",
      "\n"
     ]
    }
   ],
   "source": [
    "df.filter(df.Genre=='Male').select('Age','Annual Income (k$)').show()"
   ]
  },
  {
   "cell_type": "code",
   "execution_count": 12,
   "metadata": {},
   "outputs": [
    {
     "data": {
      "text/plain": [
       "88"
      ]
     },
     "execution_count": 12,
     "metadata": {},
     "output_type": "execute_result"
    }
   ],
   "source": [
    "df.filter(df.Genre=='Male').count()"
   ]
  },
  {
   "cell_type": "code",
   "execution_count": 13,
   "metadata": {},
   "outputs": [
    {
     "name": "stdout",
     "output_type": "stream",
     "text": [
      "+----------+-----+---+------------------+----------------------+\n",
      "|CustomerID|Genre|Age|Annual Income (k$)|Spending Score (1-100)|\n",
      "+----------+-----+---+------------------+----------------------+\n",
      "|         9| Male| 64|                19|                     3|\n",
      "|        11| Male| 67|                19|                    14|\n",
      "|        19| Male| 52|                23|                    29|\n",
      "|        31| Male| 60|                30|                     4|\n",
      "|        33| Male| 53|                33|                     4|\n",
      "|        54| Male| 59|                43|                    60|\n",
      "|        58| Male| 69|                44|                    46|\n",
      "|        60| Male| 53|                46|                    46|\n",
      "|        61| Male| 70|                46|                    56|\n",
      "|        65| Male| 63|                48|                    51|\n",
      "|        71| Male| 70|                49|                    55|\n",
      "|        75| Male| 59|                54|                    47|\n",
      "|        81| Male| 57|                54|                    51|\n",
      "|        83| Male| 67|                54|                    41|\n",
      "|       103| Male| 67|                62|                    59|\n",
      "|       108| Male| 54|                63|                    46|\n",
      "|       109| Male| 68|                63|                    43|\n",
      "|       110| Male| 66|                63|                    48|\n",
      "|       111| Male| 65|                63|                    52|\n",
      "|       129| Male| 59|                71|                    11|\n",
      "+----------+-----+---+------------------+----------------------+\n",
      "only showing top 20 rows\n",
      "\n"
     ]
    }
   ],
   "source": [
    "df.filter((df.Genre=='Male') & (df.Age>50)).show()"
   ]
  },
  {
   "cell_type": "code",
   "execution_count": 14,
   "metadata": {},
   "outputs": [
    {
     "data": {
      "text/plain": [
       "22"
      ]
     },
     "execution_count": 14,
     "metadata": {},
     "output_type": "execute_result"
    }
   ],
   "source": [
    "df.filter((df.Genre=='Male') & (df.Age>50)).count()"
   ]
  },
  {
   "cell_type": "code",
   "execution_count": 15,
   "metadata": {},
   "outputs": [
    {
     "name": "stdout",
     "output_type": "stream",
     "text": [
      "+----------+------+---+------------------+----------------------+\n",
      "|CustomerID| Genre|Age|Annual Income (k$)|Spending Score (1-100)|\n",
      "+----------+------+---+------------------+----------------------+\n",
      "|        66|  Male| 18|                48|                    59|\n",
      "|        92|  Male| 18|                59|                    41|\n",
      "|       115|Female| 18|                65|                    48|\n",
      "|        34|  Male| 18|                33|                    92|\n",
      "|         1|  Male| 19|                15|                    39|\n",
      "|        69|  Male| 19|                48|                    59|\n",
      "|       139|  Male| 19|                74|                    10|\n",
      "|       163|  Male| 19|                81|                     5|\n",
      "|        62|  Male| 19|                46|                    55|\n",
      "|       114|  Male| 19|                64|                    46|\n",
      "|       112|Female| 19|                63|                    54|\n",
      "|       116|Female| 19|                65|                    50|\n",
      "|        40|Female| 20|                37|                    75|\n",
      "|         3|Female| 20|                16|                     6|\n",
      "|        18|  Male| 20|                21|                    66|\n",
      "|       100|  Male| 20|                61|                    49|\n",
      "|       135|  Male| 20|                73|                     5|\n",
      "|         2|  Male| 21|                15|                    81|\n",
      "|        36|Female| 21|                33|                    81|\n",
      "|        32|Female| 21|                30|                    73|\n",
      "+----------+------+---+------------------+----------------------+\n",
      "only showing top 20 rows\n",
      "\n"
     ]
    }
   ],
   "source": [
    "df.orderBy('Age').show()"
   ]
  },
  {
   "cell_type": "code",
   "execution_count": 16,
   "metadata": {},
   "outputs": [
    {
     "name": "stdout",
     "output_type": "stream",
     "text": [
      "+----------+------+---+------------------+----------------------+\n",
      "|CustomerID| Genre|Age|Annual Income (k$)|Spending Score (1-100)|\n",
      "+----------+------+---+------------------+----------------------+\n",
      "|        61|  Male| 70|                46|                    56|\n",
      "|        71|  Male| 70|                49|                    55|\n",
      "|        58|  Male| 69|                44|                    46|\n",
      "|        68|Female| 68|                48|                    48|\n",
      "|       109|  Male| 68|                63|                    43|\n",
      "|        91|Female| 68|                59|                    55|\n",
      "|        11|  Male| 67|                19|                    14|\n",
      "|       103|  Male| 67|                62|                    59|\n",
      "|        83|  Male| 67|                54|                    41|\n",
      "|        63|Female| 67|                47|                    52|\n",
      "|       110|  Male| 66|                63|                    48|\n",
      "|       107|Female| 66|                63|                    50|\n",
      "|        41|Female| 65|                38|                    35|\n",
      "|       111|  Male| 65|                63|                    52|\n",
      "|         9|  Male| 64|                19|                     3|\n",
      "|        65|  Male| 63|                48|                    51|\n",
      "|       117|Female| 63|                65|                    43|\n",
      "|        31|  Male| 60|                30|                     4|\n",
      "|        73|Female| 60|                50|                    49|\n",
      "|        74|Female| 60|                50|                    56|\n",
      "+----------+------+---+------------------+----------------------+\n",
      "only showing top 20 rows\n",
      "\n"
     ]
    }
   ],
   "source": [
    "df.orderBy('Age', ascending=False).show()"
   ]
  },
  {
   "cell_type": "code",
   "execution_count": 17,
   "metadata": {},
   "outputs": [],
   "source": [
    "df.registerTempTable('Mall_data')"
   ]
  },
  {
   "cell_type": "code",
   "execution_count": 18,
   "metadata": {},
   "outputs": [
    {
     "name": "stdout",
     "output_type": "stream",
     "text": [
      "+----------+------+---+------------------+----------------------+\n",
      "|CustomerID| Genre|Age|Annual Income (k$)|Spending Score (1-100)|\n",
      "+----------+------+---+------------------+----------------------+\n",
      "|         1|  Male| 19|                15|                    39|\n",
      "|         2|  Male| 21|                15|                    81|\n",
      "|         3|Female| 20|                16|                     6|\n",
      "|         4|Female| 23|                16|                    77|\n",
      "|         5|Female| 31|                17|                    40|\n",
      "|         6|Female| 22|                17|                    76|\n",
      "|         7|Female| 35|                18|                     6|\n",
      "|         8|Female| 23|                18|                    94|\n",
      "|         9|  Male| 64|                19|                     3|\n",
      "|        10|Female| 30|                19|                    72|\n",
      "|        11|  Male| 67|                19|                    14|\n",
      "|        12|Female| 35|                19|                    99|\n",
      "|        13|Female| 58|                20|                    15|\n",
      "|        14|Female| 24|                20|                    77|\n",
      "|        15|  Male| 37|                20|                    13|\n",
      "|        16|  Male| 22|                20|                    79|\n",
      "|        17|Female| 35|                21|                    35|\n",
      "|        18|  Male| 20|                21|                    66|\n",
      "|        19|  Male| 52|                23|                    29|\n",
      "|        20|Female| 35|                23|                    98|\n",
      "+----------+------+---+------------------+----------------------+\n",
      "only showing top 20 rows\n",
      "\n"
     ]
    }
   ],
   "source": [
    "sqlContext.sql('select * from Mall_data').show()"
   ]
  }
 ],
 "metadata": {
  "kernelspec": {
   "display_name": "Python 3",
   "language": "python",
   "name": "python3"
  },
  "language_info": {
   "codemirror_mode": {
    "name": "ipython",
    "version": 3
   },
   "file_extension": ".py",
   "mimetype": "text/x-python",
   "name": "python",
   "nbconvert_exporter": "python",
   "pygments_lexer": "ipython3",
   "version": "3.7.2"
  }
 },
 "nbformat": 4,
 "nbformat_minor": 2
}
