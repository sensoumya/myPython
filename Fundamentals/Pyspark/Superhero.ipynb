{
 "cells": [
  {
   "cell_type": "code",
   "execution_count": 1,
   "metadata": {},
   "outputs": [],
   "source": [
    "from pyspark.sql import *"
   ]
  },
  {
   "cell_type": "code",
   "execution_count": 6,
   "metadata": {},
   "outputs": [],
   "source": [
    "df = spark.read.csv('superheroes.csv', header=True, inferSchema=True)"
   ]
  },
  {
   "cell_type": "code",
   "execution_count": 7,
   "metadata": {},
   "outputs": [
    {
     "name": "stdout",
     "output_type": "stream",
     "text": [
      "+-----+-------------+------+---------+-----------------+----------+------+-----------------+----------+---------+------+\n",
      "|Sl_no|         Name|Gender|Eye color|             Race|Hair color|Height|        Publisher|Skin color|Alignment|Weight|\n",
      "+-----+-------------+------+---------+-----------------+----------+------+-----------------+----------+---------+------+\n",
      "|    0|       A-Bomb|  Male|   yellow|            Human|   No Hair| 203.0|    Marvel Comics|         -|     good|   441|\n",
      "|    1|   Abe Sapien|  Male|     blue|    Icthyo Sapien|   No Hair| 191.0|Dark Horse Comics|      blue|     good|    65|\n",
      "|    2|     Abin Sur|  Male|     blue|          Ungaran|   No Hair| 185.0|        DC Comics|       red|     good|    90|\n",
      "|    3|  Abomination|  Male|    green|Human / Radiation|   No Hair| 203.0|    Marvel Comics|         -|      bad|   441|\n",
      "|    4|      Abraxas|  Male|     blue|    Cosmic Entity|     Black| -99.0|    Marvel Comics|         -|      bad|   -99|\n",
      "|    5|Absorbing Man|  Male|     blue|            Human|   No Hair| 193.0|    Marvel Comics|         -|      bad|   122|\n",
      "|    6|  Adam Monroe|  Male|     blue|                -|     Blond| -99.0|     NBC - Heroes|         -|     good|   -99|\n",
      "|    7| Adam Strange|  Male|     blue|            Human|     Blond| 185.0|        DC Comics|         -|     good|    88|\n",
      "|    8|     Agent 13|Female|     blue|                -|     Blond| 173.0|    Marvel Comics|         -|     good|    61|\n",
      "|    9|    Agent Bob|  Male|    brown|            Human|     Brown| 178.0|    Marvel Comics|         -|     good|    81|\n",
      "+-----+-------------+------+---------+-----------------+----------+------+-----------------+----------+---------+------+\n",
      "only showing top 10 rows\n",
      "\n"
     ]
    }
   ],
   "source": [
    "df.show(10)"
   ]
  },
  {
   "cell_type": "code",
   "execution_count": 8,
   "metadata": {},
   "outputs": [
    {
     "name": "stdout",
     "output_type": "stream",
     "text": [
      "root\n",
      " |-- Sl_no: integer (nullable = true)\n",
      " |-- Name: string (nullable = true)\n",
      " |-- Gender: string (nullable = true)\n",
      " |-- Eye color: string (nullable = true)\n",
      " |-- Race: string (nullable = true)\n",
      " |-- Hair color: string (nullable = true)\n",
      " |-- Height: double (nullable = true)\n",
      " |-- Publisher: string (nullable = true)\n",
      " |-- Skin color: string (nullable = true)\n",
      " |-- Alignment: string (nullable = true)\n",
      " |-- Weight: integer (nullable = true)\n",
      "\n"
     ]
    }
   ],
   "source": [
    "df.printSchema()"
   ]
  },
  {
   "cell_type": "code",
   "execution_count": 9,
   "metadata": {},
   "outputs": [
    {
     "data": {
      "text/plain": [
       "505"
      ]
     },
     "execution_count": 9,
     "metadata": {},
     "output_type": "execute_result"
    }
   ],
   "source": [
    "df.filter(df.Gender=='Male').count()"
   ]
  },
  {
   "cell_type": "code",
   "execution_count": 10,
   "metadata": {},
   "outputs": [
    {
     "data": {
      "text/plain": [
       "200"
      ]
     },
     "execution_count": 10,
     "metadata": {},
     "output_type": "execute_result"
    }
   ],
   "source": [
    "df.filter(df.Gender=='Female').count()"
   ]
  },
  {
   "cell_type": "code",
   "execution_count": 11,
   "metadata": {},
   "outputs": [
    {
     "name": "stdout",
     "output_type": "stream",
     "text": [
      "+------------------+-----+\n",
      "|              Race|count|\n",
      "+------------------+-----+\n",
      "|          Neyaphem|    1|\n",
      "|          Symbiote|    9|\n",
      "|        Kryptonian|    7|\n",
      "|           Ungaran|    1|\n",
      "|           Martian|    1|\n",
      "|         Strontian|    1|\n",
      "| Human / Radiation|   11|\n",
      "|   Kakarantharaian|    1|\n",
      "|         Metahuman|    2|\n",
      "|Dathomirian Zabrak|    1|\n",
      "|    Human / Cosmic|    2|\n",
      "|   Xenomorph XX121|    1|\n",
      "|            Animal|    4|\n",
      "|       Frost Giant|    2|\n",
      "|            Cyborg|   11|\n",
      "|           Inhuman|    4|\n",
      "|     God / Eternal|   14|\n",
      "|    Yoda's species|    1|\n",
      "|     Icthyo Sapien|    1|\n",
      "|            Rodian|    1|\n",
      "+------------------+-----+\n",
      "only showing top 20 rows\n",
      "\n"
     ]
    }
   ],
   "source": [
    "race_df = df.groupby('Race').count().show()\n",
    "race_df"
   ]
  },
  {
   "cell_type": "code",
   "execution_count": 16,
   "metadata": {},
   "outputs": [
    {
     "name": "stdout",
     "output_type": "stream",
     "text": [
      "+--------------+-----+\n",
      "|    Skin color|count|\n",
      "+--------------+-----+\n",
      "|        orange|    1|\n",
      "|    blue-white|    1|\n",
      "|          grey|    5|\n",
      "|         green|   21|\n",
      "|        yellow|    2|\n",
      "|orange / white|    1|\n",
      "|        silver|    5|\n",
      "|        purple|    3|\n",
      "|         white|    7|\n",
      "|          gray|    1|\n",
      "|   red / black|    1|\n",
      "|          pink|    2|\n",
      "|           red|    9|\n",
      "|          gold|    3|\n",
      "|             -|  662|\n",
      "|         black|    1|\n",
      "|          blue|    9|\n",
      "+--------------+-----+\n",
      "\n"
     ]
    }
   ],
   "source": [
    "skin_df = df.groupby('Skin color').count()#.show()\n",
    "skin_df.show()"
   ]
  },
  {
   "cell_type": "code",
   "execution_count": 19,
   "metadata": {},
   "outputs": [
    {
     "name": "stdout",
     "output_type": "stream",
     "text": [
      "+-----+--------------+------+---------+-----------------+----------+------+-------------+----------+---------+------+\n",
      "|Sl_no|          Name|Gender|Eye color|             Race|Hair color|Height|    Publisher|Skin color|Alignment|Weight|\n",
      "+-----+--------------+------+---------+-----------------+----------+------+-------------+----------+---------+------+\n",
      "|  575|     Sasquatch|  Male|      red|                -|    Orange| 305.0|Marvel Comics|         -|     good|   900|\n",
      "|  373|    Juggernaut|  Male|     blue|            Human|       Red| 287.0|Marvel Comics|         -|  neutral|   855|\n",
      "|  203|      Darkseid|  Male|      red|          New God|   No Hair| 267.0|    DC Comics|      grey|      bad|   817|\n",
      "|  549|      Red Hulk|  Male|   yellow|Human / Radiation|     Black| 213.0|Marvel Comics|       red|  neutral|   630|\n",
      "|  283|       Giganta|Female|    green|                -|       Red|  62.5|    DC Comics|         -|      bad|   630|\n",
      "|  331|          Hulk|  Male|    green|Human / Radiation|     Green| 244.0|Marvel Comics|     green|     good|   630|\n",
      "|  119|      Bloodaxe|Female|     blue|            Human|     Brown| 218.0|Marvel Comics|         -|      bad|   495|\n",
      "|  718|     Wolfsbane|Female|    green|                -|    Auburn| 366.0|Marvel Comics|         -|     good|   473|\n",
      "|  657|        Thanos|  Male|      red|          Eternal|   No Hair| 201.0|Marvel Comics|    purple|      bad|   443|\n",
      "|    0|        A-Bomb|  Male|   yellow|            Human|   No Hair| 203.0|Marvel Comics|         -|     good|   441|\n",
      "|    3|   Abomination|  Male|    green|Human / Radiation|   No Hair| 203.0|Marvel Comics|         -|      bad|   441|\n",
      "|  611|Solomon Grundy|  Male|    black|           Zombie|     White| 279.0|    DC Comics|         -|      bad|   437|\n",
      "|  229|      Doomsday|  Male|      red|            Alien|     White| 244.0|    DC Comics|         -|      bad|   412|\n",
      "|  614|         Spawn|  Male|    brown|            Demon|     Black| 211.0| Image Comics|         -|     good|   405|\n",
      "|  504|     Onslaught|  Male|      red|           Mutant|   No Hair| 305.0|Marvel Comics|         -|      bad|   405|\n",
      "|  217|     Destroyer|  Male|        -|                -|         -| 188.0|Marvel Comics|         -|      bad|   383|\n",
      "|  422|   Machine Man|     -|      red|                -|     Black| 183.0|Marvel Comics|         -|     good|   383|\n",
      "|  409|  Living Brain|     -|   yellow|                -|         -| 198.0|Marvel Comics|         -|      bad|   360|\n",
      "|   33|    Anti-Venom|  Male|     blue|         Symbiote|     Blond| 229.0|Marvel Comics|         -|        -|   358|\n",
      "|  386|   Killer Croc|  Male|      red|        Metahuman|   No Hair| 244.0|    DC Comics|     green|      bad|   356|\n",
      "+-----+--------------+------+---------+-----------------+----------+------+-------------+----------+---------+------+\n",
      "only showing top 20 rows\n",
      "\n"
     ]
    }
   ],
   "source": [
    "weight_df = df.sort((df.Weight).desc())\n",
    "weight_df.show()"
   ]
  },
  {
   "cell_type": "code",
   "execution_count": 21,
   "metadata": {},
   "outputs": [
    {
     "name": "stdout",
     "output_type": "stream",
     "text": [
      "+-----+-----------------+------+---------+-------------+----------+------+---------+----------+---------+------+\n",
      "|Sl_no|             Name|Gender|Eye color|         Race|Hair color|Height|Publisher|Skin color|Alignment|Weight|\n",
      "+-----+-----------------+------+---------+-------------+----------+------+---------+----------+---------+------+\n",
      "|    2|         Abin Sur|  Male|     blue|      Ungaran|   No Hair| 185.0|DC Comics|       red|     good|    90|\n",
      "|    7|     Adam Strange|  Male|     blue|        Human|     Blond| 185.0|DC Comics|         -|     good|    88|\n",
      "|   13|       Alan Scott|  Male|     blue|            -|     Blond| 180.0|DC Comics|         -|     good|    90|\n",
      "|   16|Alfred Pennyworth|  Male|     blue|        Human|     Black| 178.0|DC Comics|         -|     good|    72|\n",
      "|   19|            Amazo|  Male|      red|      Android|         -| 257.0|DC Comics|         -|      bad|   173|\n",
      "|   27|       Animal Man|  Male|     blue|        Human|     Blond| 183.0|DC Comics|         -|     good|    83|\n",
      "|   31|     Anti-Monitor|  Male|   yellow|God / Eternal|   No Hair|  61.0|DC Comics|         -|      bad|   -99|\n",
      "|   35|         Aquababy|  Male|     blue|            -|     Blond| -99.0|DC Comics|         -|     good|   -99|\n",
      "|   36|          Aqualad|  Male|     blue|    Atlantean|     Black| 178.0|DC Comics|         -|     good|   106|\n",
      "|   37|          Aquaman|  Male|     blue|    Atlantean|     Blond| 185.0|DC Comics|         -|     good|   146|\n",
      "|   45|          Arsenal|  Male|        -|        Human|         -| -99.0|DC Comics|         -|     good|   -99|\n",
      "|   48|            Atlas|  Male|     blue|God / Eternal|     Brown| 198.0|DC Comics|         -|      bad|   126|\n",
      "|   49|             Atom|  Male|     blue|            -|       Red| 178.0|DC Comics|         -|     good|    68|\n",
      "|   50|             Atom|  Male|        -|            -|         -| -99.0|DC Comics|         -|     good|   -99|\n",
      "|   51|        Atom Girl|Female|    black|            -|     Black| 168.0|DC Comics|         -|     good|    54|\n",
      "|   52|          Atom II|  Male|    brown|        Human|    Auburn| 183.0|DC Comics|         -|     good|    81|\n",
      "|   53|         Atom III|  Male|        -|            -|       Red| -99.0|DC Comics|         -|     good|   -99|\n",
      "|   54|          Atom IV|  Male|    brown|            -|     Black| -99.0|DC Comics|         -|     good|    72|\n",
      "|   57|           Azrael|  Male|    brown|        Human|     Black| -99.0|DC Comics|         -|     good|   -99|\n",
      "|   58|            Aztar|  Male|        -|            -|         -| -99.0|DC Comics|         -|     good|   -99|\n",
      "+-----+-----------------+------+---------+-------------+----------+------+---------+----------+---------+------+\n",
      "only showing top 20 rows\n",
      "\n"
     ]
    }
   ],
   "source": [
    "dc_hero = df.filter(df.Publisher == 'DC Comics')\n",
    "dc_hero.show()"
   ]
  },
  {
   "cell_type": "code",
   "execution_count": 22,
   "metadata": {},
   "outputs": [
    {
     "data": {
      "text/plain": [
       "215"
      ]
     },
     "execution_count": 22,
     "metadata": {},
     "output_type": "execute_result"
    }
   ],
   "source": [
    "dc_hero.count()"
   ]
  },
  {
   "cell_type": "code",
   "execution_count": 25,
   "metadata": {},
   "outputs": [
    {
     "name": "stdout",
     "output_type": "stream",
     "text": [
      "+-----------------+-----+\n",
      "|        Publisher|count|\n",
      "+-----------------+-----+\n",
      "|        Rebellion|    1|\n",
      "|    HarperCollins|    6|\n",
      "| J. R. R. Tolkien|    1|\n",
      "|        Star Trek|    6|\n",
      "|    Marvel Comics|  388|\n",
      "|        Wildstorm|    3|\n",
      "|             null|   15|\n",
      "|       South Park|    1|\n",
      "|    Sony Pictures|    2|\n",
      "|      Titan Books|    1|\n",
      "|      ABC Studios|    4|\n",
      "|             SyFy|    5|\n",
      "|     Image Comics|   14|\n",
      "|Universal Studios|    1|\n",
      "|   IDW Publishing|    4|\n",
      "|     NBC - Heroes|   19|\n",
      "|    Hanna-Barbera|    1|\n",
      "|        DC Comics|  215|\n",
      "|        Microsoft|    1|\n",
      "|    J. K. Rowling|    1|\n",
      "+-----------------+-----+\n",
      "only showing top 20 rows\n",
      "\n"
     ]
    }
   ],
   "source": [
    "df.groupby(df.Publisher).count().show()"
   ]
  },
  {
   "cell_type": "code",
   "execution_count": 27,
   "metadata": {},
   "outputs": [],
   "source": [
    "df.registerTempTable('Superheroes')"
   ]
  },
  {
   "cell_type": "code",
   "execution_count": 44,
   "metadata": {},
   "outputs": [
    {
     "name": "stdout",
     "output_type": "stream",
     "text": [
      "+-----+-----------------+------+---------+-----------------+----------+------+-----------------+----------+---------+------+\n",
      "|Sl_no|             Name|Gender|Eye color|             Race|Hair color|Height|        Publisher|Skin color|Alignment|Weight|\n",
      "+-----+-----------------+------+---------+-----------------+----------+------+-----------------+----------+---------+------+\n",
      "|    0|           A-Bomb|  Male|   yellow|            Human|   No Hair| 203.0|    Marvel Comics|         -|     good|   441|\n",
      "|    1|       Abe Sapien|  Male|     blue|    Icthyo Sapien|   No Hair| 191.0|Dark Horse Comics|      blue|     good|    65|\n",
      "|    2|         Abin Sur|  Male|     blue|          Ungaran|   No Hair| 185.0|        DC Comics|       red|     good|    90|\n",
      "|    3|      Abomination|  Male|    green|Human / Radiation|   No Hair| 203.0|    Marvel Comics|         -|      bad|   441|\n",
      "|    4|          Abraxas|  Male|     blue|    Cosmic Entity|     Black| -99.0|    Marvel Comics|         -|      bad|   -99|\n",
      "|    5|    Absorbing Man|  Male|     blue|            Human|   No Hair| 193.0|    Marvel Comics|         -|      bad|   122|\n",
      "|    6|      Adam Monroe|  Male|     blue|                -|     Blond| -99.0|     NBC - Heroes|         -|     good|   -99|\n",
      "|    7|     Adam Strange|  Male|     blue|            Human|     Blond| 185.0|        DC Comics|         -|     good|    88|\n",
      "|    8|         Agent 13|Female|     blue|                -|     Blond| 173.0|    Marvel Comics|         -|     good|    61|\n",
      "|    9|        Agent Bob|  Male|    brown|            Human|     Brown| 178.0|    Marvel Comics|         -|     good|    81|\n",
      "|   10|       Agent Zero|  Male|        -|                -|         -| 191.0|    Marvel Comics|         -|     good|   104|\n",
      "|   11|       Air-Walker|  Male|     blue|                -|     White| 188.0|    Marvel Comics|         -|      bad|   108|\n",
      "|   12|             Ajax|  Male|    brown|           Cyborg|     Black| 193.0|    Marvel Comics|         -|      bad|    90|\n",
      "|   13|       Alan Scott|  Male|     blue|                -|     Blond| 180.0|        DC Comics|         -|     good|    90|\n",
      "|   14|      Alex Mercer|  Male|        -|            Human|         -| -99.0|        Wildstorm|         -|      bad|   -99|\n",
      "|   15|     Alex Woolsly|  Male|        -|                -|         -| -99.0|     NBC - Heroes|         -|     good|   -99|\n",
      "|   16|Alfred Pennyworth|  Male|     blue|            Human|     Black| 178.0|        DC Comics|         -|     good|    72|\n",
      "|   17|            Alien|  Male|        -|  Xenomorph XX121|   No Hair| 244.0|Dark Horse Comics|     black|      bad|   169|\n",
      "|   18| Allan Quatermain|  Male|        -|                -|         -| -99.0|        Wildstorm|         -|     good|   -99|\n",
      "|   19|            Amazo|  Male|      red|          Android|         -| 257.0|        DC Comics|         -|      bad|   173|\n",
      "+-----+-----------------+------+---------+-----------------+----------+------+-----------------+----------+---------+------+\n",
      "only showing top 20 rows\n",
      "\n"
     ]
    }
   ],
   "source": [
    "sqlContext.sql('select * from Superheroes').show()"
   ]
  },
  {
   "cell_type": "code",
   "execution_count": 52,
   "metadata": {},
   "outputs": [
    {
     "name": "stdout",
     "output_type": "stream",
     "text": [
      "+--------------------+\n",
      "|           Eye color|\n",
      "+--------------------+\n",
      "|yellow (without i...|\n",
      "|              violet|\n",
      "|                grey|\n",
      "|               green|\n",
      "|              yellow|\n",
      "|                bown|\n",
      "|              indigo|\n",
      "|              silver|\n",
      "|              purple|\n",
      "|               white|\n",
      "|        blue / white|\n",
      "|                 red|\n",
      "|                gold|\n",
      "|                   -|\n",
      "|         white / red|\n",
      "|        yellow / red|\n",
      "|       yellow / blue|\n",
      "|               hazel|\n",
      "|               black|\n",
      "|        green / blue|\n",
      "+--------------------+\n",
      "only showing top 20 rows\n",
      "\n"
     ]
    }
   ],
   "source": [
    "sqlContext.sql('select distinct(`Eye color`) from Superheroes').show()"
   ]
  },
  {
   "cell_type": "code",
   "execution_count": 53,
   "metadata": {},
   "outputs": [
    {
     "data": {
      "text/plain": [
       "23"
      ]
     },
     "execution_count": 53,
     "metadata": {},
     "output_type": "execute_result"
    }
   ],
   "source": [
    "sqlContext.sql('select distinct(`Eye color`) from Superheroes').count()"
   ]
  }
 ],
 "metadata": {
  "kernelspec": {
   "display_name": "Python 3",
   "language": "python",
   "name": "python3"
  },
  "language_info": {
   "codemirror_mode": {
    "name": "ipython",
    "version": 3
   },
   "file_extension": ".py",
   "mimetype": "text/x-python",
   "name": "python",
   "nbconvert_exporter": "python",
   "pygments_lexer": "ipython3",
   "version": "3.7.2"
  }
 },
 "nbformat": 4,
 "nbformat_minor": 2
}
