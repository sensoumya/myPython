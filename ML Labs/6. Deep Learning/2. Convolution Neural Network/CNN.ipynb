{
 "cells": [
  {
   "cell_type": "markdown",
   "metadata": {},
   "source": [
    "###### Importing Keras libraries and packages"
   ]
  },
  {
   "cell_type": "code",
   "execution_count": 1,
   "metadata": {},
   "outputs": [
    {
     "name": "stderr",
     "output_type": "stream",
     "text": [
      "Using TensorFlow backend.\n"
     ]
    }
   ],
   "source": [
    "from keras.models import Sequential\n",
    "from keras.layers import Dense\n",
    "from keras.layers import Convolution2D\n",
    "from keras.layers import MaxPooling2D\n",
    "from keras.layers import Flatten\n"
   ]
  },
  {
   "cell_type": "markdown",
   "metadata": {},
   "source": [
    "##### Initializing and adding a convolution layer"
   ]
  },
  {
   "cell_type": "code",
   "execution_count": 2,
   "metadata": {},
   "outputs": [],
   "source": [
    "classifier =  Sequential()"
   ]
  },
  {
   "cell_type": "code",
   "execution_count": 3,
   "metadata": {},
   "outputs": [
    {
     "name": "stdout",
     "output_type": "stream",
     "text": [
      "WARNING:tensorflow:From /opt/conda/lib/python3.6/site-packages/tensorflow/python/framework/op_def_library.py:263: colocate_with (from tensorflow.python.framework.ops) is deprecated and will be removed in a future version.\n",
      "Instructions for updating:\n",
      "Colocations handled automatically by placer.\n"
     ]
    }
   ],
   "source": [
    "classifier.add(Convolution2D(32,(3,3), input_shape = (64,64,3), activation='relu'))\n",
    "classifier.add(MaxPooling2D(pool_size=(2,2)))"
   ]
  },
  {
   "cell_type": "markdown",
   "metadata": {},
   "source": [
    "##### Adding a second convolution layer"
   ]
  },
  {
   "cell_type": "code",
   "execution_count": 4,
   "metadata": {},
   "outputs": [],
   "source": [
    "classifier.add(Convolution2D(32,(3,3), activation='relu'))\n",
    "classifier.add(MaxPooling2D(pool_size=(2,2)))"
   ]
  },
  {
   "cell_type": "code",
   "execution_count": 5,
   "metadata": {},
   "outputs": [],
   "source": [
    "classifier.add(Flatten())"
   ]
  },
  {
   "cell_type": "code",
   "execution_count": 6,
   "metadata": {},
   "outputs": [],
   "source": [
    "classifier.add(Dense(units=128, activation='relu'))\n",
    "classifier.add(Dense(units=1, activation='sigmoid'))"
   ]
  },
  {
   "cell_type": "code",
   "execution_count": 7,
   "metadata": {},
   "outputs": [],
   "source": [
    "classifier.compile(optimizer='adam', loss = 'binary_crossentropy', metrics=['accuracy'])"
   ]
  },
  {
   "cell_type": "code",
   "execution_count": 8,
   "metadata": {},
   "outputs": [],
   "source": [
    "from keras.preprocessing.image import ImageDataGenerator"
   ]
  },
  {
   "cell_type": "markdown",
   "metadata": {},
   "source": [
    "###### **Augmentation steps**"
   ]
  },
  {
   "cell_type": "code",
   "execution_count": 9,
   "metadata": {},
   "outputs": [
    {
     "name": "stdout",
     "output_type": "stream",
     "text": [
      "Found 8000 images belonging to 2 classes.\n",
      "Found 2000 images belonging to 2 classes.\n"
     ]
    }
   ],
   "source": [
    "train_datagen = ImageDataGenerator(\n",
    "        rescale=1./255,\n",
    "        shear_range=0.2,\n",
    "        zoom_range=0.2,\n",
    "        horizontal_flip=True)\n",
    "\n",
    "test_datagen = ImageDataGenerator(rescale=1./255)\n",
    "\n",
    "training_set = train_datagen.flow_from_directory(\n",
    "        '/kaggle/input/p14-convolutional-neural-networks/Convolutional_Neural_Networks/dataset/training_set',\n",
    "        target_size=(64, 64),\n",
    "        batch_size=32,\n",
    "        class_mode='binary')\n",
    "\n",
    "test_set = test_datagen.flow_from_directory(\n",
    "        '/kaggle/input/p14-convolutional-neural-networks/Convolutional_Neural_Networks/dataset/test_set',\n",
    "        target_size=(64, 64),\n",
    "        batch_size=32,\n",
    "        class_mode='binary')"
   ]
  },
  {
   "cell_type": "code",
   "execution_count": 10,
   "metadata": {},
   "outputs": [
    {
     "name": "stdout",
     "output_type": "stream",
     "text": [
      "WARNING:tensorflow:From /opt/conda/lib/python3.6/site-packages/tensorflow/python/ops/math_ops.py:3066: to_int32 (from tensorflow.python.ops.math_ops) is deprecated and will be removed in a future version.\n",
      "Instructions for updating:\n",
      "Use tf.cast instead.\n",
      "Epoch 1/15\n",
      "8000/8000 [==============================] - 1341s 168ms/step - loss: 0.3411 - acc: 0.8410 - val_loss: 0.6419 - val_acc: 0.8035\n",
      "Epoch 2/15\n",
      "8000/8000 [==============================] - 1299s 162ms/step - loss: 0.0892 - acc: 0.9668 - val_loss: 0.9837 - val_acc: 0.7985\n",
      "Epoch 3/15\n",
      "8000/8000 [==============================] - 1315s 164ms/step - loss: 0.0475 - acc: 0.9833 - val_loss: 1.1505 - val_acc: 0.8014\n",
      "Epoch 4/15\n",
      "8000/8000 [==============================] - 1293s 162ms/step - loss: 0.0358 - acc: 0.9880 - val_loss: 1.1876 - val_acc: 0.8020\n",
      "Epoch 5/15\n",
      "8000/8000 [==============================] - 1265s 158ms/step - loss: 0.0285 - acc: 0.9902 - val_loss: 1.3714 - val_acc: 0.7920\n",
      "Epoch 6/15\n",
      "8000/8000 [==============================] - 1261s 158ms/step - loss: 0.0238 - acc: 0.9921 - val_loss: 1.4687 - val_acc: 0.7943\n",
      "Epoch 7/15\n",
      "8000/8000 [==============================] - 1294s 162ms/step - loss: 0.0209 - acc: 0.9930 - val_loss: 1.4589 - val_acc: 0.8005\n",
      "Epoch 8/15\n",
      "8000/8000 [==============================] - 1292s 161ms/step - loss: 0.0181 - acc: 0.9940 - val_loss: 1.4685 - val_acc: 0.8038\n",
      "Epoch 9/15\n",
      "8000/8000 [==============================] - 1267s 158ms/step - loss: 0.0169 - acc: 0.9944 - val_loss: 1.5362 - val_acc: 0.7974\n",
      "Epoch 10/15\n",
      "8000/8000 [==============================] - 1270s 159ms/step - loss: 0.0152 - acc: 0.9952 - val_loss: 1.6452 - val_acc: 0.7939\n",
      "Epoch 11/15\n",
      "8000/8000 [==============================] - 1274s 159ms/step - loss: 0.0143 - acc: 0.9955 - val_loss: 1.8376 - val_acc: 0.7835\n",
      "Epoch 12/15\n",
      "8000/8000 [==============================] - 1283s 160ms/step - loss: 0.0130 - acc: 0.9959 - val_loss: 1.6533 - val_acc: 0.7929\n",
      "Epoch 13/15\n",
      "8000/8000 [==============================] - 1291s 161ms/step - loss: 0.0127 - acc: 0.9960 - val_loss: 1.6050 - val_acc: 0.7963\n",
      "Epoch 14/15\n",
      "8000/8000 [==============================] - 1317s 165ms/step - loss: 0.0118 - acc: 0.9964 - val_loss: 1.5544 - val_acc: 0.8042\n",
      "Epoch 15/15\n",
      "8000/8000 [==============================] - 1287s 161ms/step - loss: 0.0110 - acc: 0.9967 - val_loss: 1.7010 - val_acc: 0.8024\n"
     ]
    },
    {
     "data": {
      "text/plain": [
       "<keras.callbacks.History at 0x7fe59b8a4908>"
      ]
     },
     "execution_count": 10,
     "metadata": {},
     "output_type": "execute_result"
    }
   ],
   "source": [
    "classifier.fit_generator(\n",
    "        training_set,\n",
    "        steps_per_epoch=8000,\n",
    "        epochs=15,\n",
    "        validation_data=test_set,\n",
    "        validation_steps=2000)"
   ]
  }
 ],
 "metadata": {
  "kernelspec": {
   "display_name": "Python 3",
   "language": "python",
   "name": "python3"
  },
  "language_info": {
   "codemirror_mode": {
    "name": "ipython",
    "version": 3
   },
   "file_extension": ".py",
   "mimetype": "text/x-python",
   "name": "python",
   "nbconvert_exporter": "python",
   "pygments_lexer": "ipython3",
   "version": "3.7.3"
  }
 },
 "nbformat": 4,
 "nbformat_minor": 1
}
